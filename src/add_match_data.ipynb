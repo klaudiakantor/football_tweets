{
 "cells": [
  {
   "cell_type": "code",
   "execution_count": 1,
   "metadata": {},
   "outputs": [],
   "source": [
    "# Run this cell just once! (or restart Kernel before second time)\n",
    "\n",
    "import os\n",
    "os.chdir('..')"
   ]
  },
  {
   "cell_type": "code",
   "execution_count": 2,
   "metadata": {},
   "outputs": [],
   "source": [
    "import pandas as pd\n",
    "from utils.fixed import *"
   ]
  },
  {
   "cell_type": "code",
   "execution_count": 82,
   "metadata": {},
   "outputs": [],
   "source": [
    "def check_if_empty(data_dict):\n",
    "    status = True\n",
    "    for value in data_dict.values():\n",
    "        if type(value)== list:\n",
    "            for i in value:\n",
    "                if i == '':\n",
    "                    return False\n",
    "        else:\n",
    "            if value == '':\n",
    "                return False\n",
    "    return True\n",
    "\n",
    "def check_id(data_dict):\n",
    "    if data_dict['match'] in list(MATCH_DATA['match']):\n",
    "        return False\n",
    "    else:\n",
    "        return True\n",
    "    \n",
    "def check_data_format(data_dict):\n",
    "    date_pattern=re.compile(\"^\\d{4}\\-\\d{2}\\-\\d{2} \\d{2}:\\d{2}:\\d{2}$\")\n",
    "    match_pattern=re.compile(\"^\\w{3}\\-\\w{3}\")\n",
    "    file_name_pattern = re.compile(\"^[\\w_]+\\.csv$\")\n",
    "    team_pattern = re.compile(\"^[\\w\\s]+$\")\n",
    "    hashtags_pattern = re.compile(\"^#[a-zA-Z]+$\")\n",
    "    if not re.match(match_pattern,data_dict['match']):\n",
    "        return False\n",
    "    if not re.match(file_name_pattern,data_dict['file_name']):\n",
    "        return False\n",
    "    if not re.match(team_pattern,data_dict['team1']):\n",
    "        return False\n",
    "    if not re.match(team_pattern,data_dict['team2']):\n",
    "        return False\n",
    "    if not re.match(date_pattern,data_dict['match_start']):\n",
    "        return False\n",
    "    if not re.match(date_pattern,data_dict['first_part_end']):\n",
    "        return False\n",
    "    if not re.match(date_pattern,data_dict['second_part_start']):\n",
    "        return False\n",
    "    if not re.match(date_pattern,data_dict['match_end']):\n",
    "        return False\n",
    "    if (type(hashtags_team1)!=list) | (type(hashtags_team2)!=list):\n",
    "        return False\n",
    "    for i in data_dict['hashtags_team1']:\n",
    "        if not re.match(hashtags_pattern,i):\n",
    "            return False\n",
    "    for i in data_dict['hashtags_team2']:\n",
    "        if not re.match(hashtags_pattern,i):\n",
    "            return False\n",
    "    return True"
   ]
  },
  {
   "cell_type": "markdown",
   "metadata": {},
   "source": [
    "## SHOW THE CURRENT MATCH_DATA"
   ]
  },
  {
   "cell_type": "code",
   "execution_count": 3,
   "metadata": {},
   "outputs": [
    {
     "data": {
      "text/html": [
       "<div>\n",
       "<style scoped>\n",
       "    .dataframe tbody tr th:only-of-type {\n",
       "        vertical-align: middle;\n",
       "    }\n",
       "\n",
       "    .dataframe tbody tr th {\n",
       "        vertical-align: top;\n",
       "    }\n",
       "\n",
       "    .dataframe thead th {\n",
       "        text-align: right;\n",
       "    }\n",
       "</style>\n",
       "<table border=\"1\" class=\"dataframe\">\n",
       "  <thead>\n",
       "    <tr style=\"text-align: right;\">\n",
       "      <th></th>\n",
       "      <th>match</th>\n",
       "      <th>file_name</th>\n",
       "      <th>team1</th>\n",
       "      <th>team2</th>\n",
       "      <th>match_start</th>\n",
       "      <th>first_part_end</th>\n",
       "      <th>second_part_start</th>\n",
       "      <th>match_end</th>\n",
       "      <th>hashtags_team1</th>\n",
       "      <th>hashtags_team2</th>\n",
       "    </tr>\n",
       "  </thead>\n",
       "  <tbody>\n",
       "    <tr>\n",
       "      <th>0</th>\n",
       "      <td>TOT-LIV</td>\n",
       "      <td>TOT_LIV.csv</td>\n",
       "      <td>Tottenham</td>\n",
       "      <td>Liverpool</td>\n",
       "      <td>2018-09-15 11:30:00</td>\n",
       "      <td>2018-09-15 12:17</td>\n",
       "      <td>2018-09-15 12:32</td>\n",
       "      <td>2018-09-15 13:23</td>\n",
       "      <td>['#tottenham', '#thfc', '#spurs', '#tottenhamh...</td>\n",
       "      <td>['#liverpoolfc', '#liverpool', '#lfc']</td>\n",
       "    </tr>\n",
       "    <tr>\n",
       "      <th>1</th>\n",
       "      <td>PSG-LIV</td>\n",
       "      <td>PSG_LIV.csv</td>\n",
       "      <td>PSG</td>\n",
       "      <td>Liverpool</td>\n",
       "      <td>2018-09-18 19:00:00</td>\n",
       "      <td>2018-09-18 19:46</td>\n",
       "      <td>2018-09-18 20:01</td>\n",
       "      <td>2018-09-18 20:55</td>\n",
       "      <td>['#psg', '#parissaintgermain']</td>\n",
       "      <td>['#liverpoolfc', '#liverpool', '#lfc']</td>\n",
       "    </tr>\n",
       "    <tr>\n",
       "      <th>2</th>\n",
       "      <td>MAN-NEW</td>\n",
       "      <td>MAN_NEW.csv</td>\n",
       "      <td>Manchester</td>\n",
       "      <td>Newcastle</td>\n",
       "      <td>2018-10-06 16:30:00</td>\n",
       "      <td>2018-10-06 17:17:00</td>\n",
       "      <td>2018-10-06 17:32:00</td>\n",
       "      <td>2018-10-06 18:17:00</td>\n",
       "      <td>['#mufc', '#manutd', '#manchesterunited', '#re...</td>\n",
       "      <td>['#newcastle', '#newcastleunited', '#nufc']</td>\n",
       "    </tr>\n",
       "    <tr>\n",
       "      <th>3</th>\n",
       "      <td>PSG-LYO</td>\n",
       "      <td>PSG_LYO.csv</td>\n",
       "      <td>PSG</td>\n",
       "      <td>Lyon</td>\n",
       "      <td>2018-10-07 19:00:00</td>\n",
       "      <td>2018-10-07 19:49:00</td>\n",
       "      <td>2018-10-07 20:04:00</td>\n",
       "      <td>2018-10-07 20:49:00</td>\n",
       "      <td>['#psg', '#parissaintgermain', '#psgol']</td>\n",
       "      <td>['#lyon', '#teamol', '#ol', '#olympiclyon', '#...</td>\n",
       "    </tr>\n",
       "  </tbody>\n",
       "</table>\n",
       "</div>"
      ],
      "text/plain": [
       "     match    file_name       team1      team2          match_start  \\\n",
       "0  TOT-LIV  TOT_LIV.csv   Tottenham  Liverpool  2018-09-15 11:30:00   \n",
       "1  PSG-LIV  PSG_LIV.csv         PSG  Liverpool  2018-09-18 19:00:00   \n",
       "2  MAN-NEW  MAN_NEW.csv  Manchester  Newcastle  2018-10-06 16:30:00   \n",
       "3  PSG-LYO  PSG_LYO.csv         PSG       Lyon  2018-10-07 19:00:00   \n",
       "\n",
       "        first_part_end    second_part_start            match_end  \\\n",
       "0     2018-09-15 12:17     2018-09-15 12:32     2018-09-15 13:23   \n",
       "1     2018-09-18 19:46     2018-09-18 20:01     2018-09-18 20:55   \n",
       "2  2018-10-06 17:17:00  2018-10-06 17:32:00  2018-10-06 18:17:00   \n",
       "3  2018-10-07 19:49:00  2018-10-07 20:04:00  2018-10-07 20:49:00   \n",
       "\n",
       "                                      hashtags_team1  \\\n",
       "0  ['#tottenham', '#thfc', '#spurs', '#tottenhamh...   \n",
       "1                     ['#psg', '#parissaintgermain']   \n",
       "2  ['#mufc', '#manutd', '#manchesterunited', '#re...   \n",
       "3           ['#psg', '#parissaintgermain', '#psgol']   \n",
       "\n",
       "                                      hashtags_team2  \n",
       "0             ['#liverpoolfc', '#liverpool', '#lfc']  \n",
       "1             ['#liverpoolfc', '#liverpool', '#lfc']  \n",
       "2        ['#newcastle', '#newcastleunited', '#nufc']  \n",
       "3  ['#lyon', '#teamol', '#ol', '#olympiclyon', '#...  "
      ]
     },
     "execution_count": 3,
     "metadata": {},
     "output_type": "execute_result"
    }
   ],
   "source": [
    "MATCH_DATA"
   ]
  },
  {
   "cell_type": "markdown",
   "metadata": {},
   "source": [
    "## ADDING NEW MATCH TO MATCH_DATA\n",
    "Fill the empty strings with proper data - following the rules.\n",
    "- match_id - unique value for each match. Format: 'team1-team2' , example: 'TOT-LIV', 'MAN-NEW'. This should be unique value in the dataframe, therefore if you get an error, please provide new id\n",
    "- file name - csv file which contains tweets and other twitter data for each match. Example: TOT_LIV.csv\n",
    "- team1 - the name of first team. Example: Tottenham, Liverpool\n",
    "- team 2 - the name of second team.\n",
    "- match_start - start time of a match. Format: 'yyyy-mm-dd hh:mm:ss' , example: '2018-10-06 17:32:00'\n",
    "- first_part_end - end time of first half (with extra time). Format: 'yyyy-mm-dd hh:mm:ss' , example: '2018-10-06 17:32:00'\n",
    "- second_part_start - start time of second half. Format: 'yyyy-mm-dd hh:mm:ss' , example: '2018-10-06 17:32:00'\n",
    "- match_end - end time of a match (with extra time). Format: 'yyyy-mm-dd hh:mm:ss' , example: '2018-10-06 17:32:00'\n",
    "- hashtags_team1 - list of hashtags defining first team. Format: ['#hashtag1', '#hashtag2'] , example: ['#psg', '#parissaintgermain']\n",
    "- hashtags_team2 - list of hashtags defining second team. Format: ['#hashtag1', '#hashtag2'] , example: ['#psg', '#parissaintgermain']"
   ]
  },
  {
   "cell_type": "code",
   "execution_count": 21,
   "metadata": {},
   "outputs": [],
   "source": [
    "match_id = ''\n",
    "file_name = ''\n",
    "team1 = ''\n",
    "team2 = ''\n",
    "match_start = ''\n",
    "first_part_end = ''\n",
    "second_part_start = ''\n",
    "match_end = ''\n",
    "hashtags_team1 = ['']\n",
    "hashtags_team2 = ['']\n",
    "\n",
    "new_data_dict = {'match':match_id,\n",
    "                'file_name':file_name,\n",
    "                'team1':team1,\n",
    "                'team2':team2,\n",
    "                'match_start':match_start,\n",
    "                'first_part_end':first_part_end,\n",
    "                'second_part_start':second_part_start,\n",
    "                'match_end':match_end,\n",
    "                'hashtags_team1':hashtags_team1,\n",
    "                'hashtags_team2':hashtags_team2}"
   ]
  },
  {
   "cell_type": "markdown",
   "metadata": {},
   "source": [
    "## ADD DATA TO MATCH_DATA CSV FILE\n",
    "The data is added after checking if:\n",
    "- all parameters are added\n",
    "- match_id is unique\n",
    "- data are written in proper format"
   ]
  },
  {
   "cell_type": "code",
   "execution_count": 84,
   "metadata": {},
   "outputs": [
    {
     "name": "stdout",
     "output_type": "stream",
     "text": [
      "INCORRECT DATA!!!\n"
     ]
    }
   ],
   "source": [
    "if check_id(new_data_dict) & check_if_empty(new_data_dict) & check_data_format(new_data_dict):\n",
    "    MATCH_DATA.append(pd.DataFrame(new_data_dict))\n",
    "    MATCH_DATA.to_csv(MATCH_DATA_PATH)\n",
    "else:\n",
    "    print(\"INCORRECT DATA!!!\")"
   ]
  }
 ],
 "metadata": {
  "kernelspec": {
   "display_name": "Python 3",
   "language": "python",
   "name": "python3"
  },
  "language_info": {
   "codemirror_mode": {
    "name": "ipython",
    "version": 3
   },
   "file_extension": ".py",
   "mimetype": "text/x-python",
   "name": "python",
   "nbconvert_exporter": "python",
   "pygments_lexer": "ipython3",
   "version": "3.6.6"
  }
 },
 "nbformat": 4,
 "nbformat_minor": 2
}
