{
 "cells": [
  {
   "cell_type": "markdown",
   "metadata": {},
   "source": [
    "# Description\n",
    "\n",
    "This file creates fasttext model based on training data - *sentiment140*. This model is saved to binary file in *models* directory and can be further used for sentiment prediction of fotball tweets. \n",
    "\n",
    "WARNING: If you get \"Bad alloc\" Memory Error in training the model, you need to decrease test_size. This error means that you do not have enough RAM in your computer."
   ]
  },
  {
   "cell_type": "code",
   "execution_count": 1,
   "metadata": {},
   "outputs": [],
   "source": [
    "# Run this cell just once! (or restart Kernel before second time)\n",
    "\n",
    "import os\n",
    "\n",
    "os.chdir('..')\n"
   ]
  },
  {
   "cell_type": "code",
   "execution_count": 2,
   "metadata": {},
   "outputs": [],
   "source": [
    "import fastText\n",
    "from sklearn.metrics import accuracy_score\n",
    "from sklearn.model_selection import train_test_split\n",
    "\n",
    "from utils.fixed import *\n"
   ]
  },
  {
   "cell_type": "code",
   "execution_count": 3,
   "metadata": {},
   "outputs": [],
   "source": [
    "TRAINING_DATA_PATH = os.path.join(MAIN_PATH, DATA_PATH, 'sentiment_m140_.csv')\n",
    "TRAIN_FILE_PATH = os.path.join(MAIN_PATH, DATA_PATH, 'test-doc.txt')\n",
    "TEST_FILE_PATH = os.path.join(MAIN_PATH, DATA_PATH, 'train-doc.txt')\n"
   ]
  },
  {
   "cell_type": "markdown",
   "metadata": {},
   "source": [
    "### LOAD DATA TO DATAFRAME"
   ]
  },
  {
   "cell_type": "code",
   "execution_count": 4,
   "metadata": {},
   "outputs": [],
   "source": [
    "SLANG_DICT = load_slang(SLANG_PATH)\n",
    "train_df = pd.read_csv(TRAINING_DATA_PATH, sep=',', encoding=\"ISO-8859-1\", lineterminator='\\n', header=0)\n",
    "train_df.columns = ['sentiment', 'id', 'date', 'query', 'user', 'tweetText']\n"
   ]
  },
  {
   "cell_type": "markdown",
   "metadata": {},
   "source": [
    " ### PREPARE DATA\n",
    "Fasttext alghoritm needs training and testing data in special format. Individual texts have to be saved in txt file and be separated by 'new line character' ('\\n'). At the end of each line there should be labels inserted with special prefix, for eample: '\\_\\_label__1' for positive sentiment and '\\_\\_label__0' for negative sentiment.\n",
    "\n",
    "Example:\n",
    "```\n",
    "car broke down __label__0\n",
    "im at the river its awesome __label__1\n",
    "```\n",
    "\n",
    "The train and test datasets should be saved in two different txt files."
   ]
  },
  {
   "cell_type": "code",
   "execution_count": 5,
   "metadata": {},
   "outputs": [],
   "source": [
    "#Tweets preprocessing and adding labels to each tweet\n",
    "X, y = get_processed_tweets(train_df, SLANG_DICT, False, False, False, True)\n",
    "indexes = list(train_df.index)\n",
    "for i in indexes:\n",
    "    X[i] = X[i] + ' ' + '__label__' + str(y[i])\n"
   ]
  },
  {
   "cell_type": "markdown",
   "metadata": {},
   "source": [
    "### SPLIT DATA INTO TRAIN AND TEST DATASETS"
   ]
  },
  {
   "cell_type": "code",
   "execution_count": 6,
   "metadata": {},
   "outputs": [],
   "source": [
    "test_size = 0.5\n",
    "X_train, X_test, y_train, y_test, index_train, index_test = train_test_split(X, y, indexes, test_size=test_size,\n",
    "                                                                             random_state=42)\n"
   ]
  },
  {
   "cell_type": "markdown",
   "metadata": {},
   "source": [
    "### SAVE DATA TO TXT FILES"
   ]
  },
  {
   "cell_type": "code",
   "execution_count": null,
   "metadata": {},
   "outputs": [],
   "source": [
    "with open(TRAIN_FILE_PATH, mode='wt', encoding='utf-8') as myfile:\n",
    "    myfile.write('\\n'.join(X_train))\n",
    "    myfile.write('\\n')\n",
    "with open(TEST_FILE_PATH, mode='wt', encoding='utf-8') as myfile:\n",
    "    myfile.write('\\n'.join(X_test))\n",
    "    myfile.write('\\n')\n"
   ]
  },
  {
   "cell_type": "markdown",
   "metadata": {},
   "source": [
    "### TRAIN THE MODEL\n",
    "The model can be trained with many different parameters. You can change vector size or number of grams.\n",
    "\n",
    "WARNING: After running next cell, the error may occur - it depends on test_size, vector_size and ngrams. You can fix it by decreasing those numbers."
   ]
  },
  {
   "cell_type": "code",
   "execution_count": 7,
   "metadata": {},
   "outputs": [],
   "source": [
    "vector_size = 200\n",
    "ngrams = 2\n",
    "clf = fastText.train_supervised(TRAIN_FILE_PATH, wordNgrams=ngrams, dim=vector_size, minCount=1)\n"
   ]
  },
  {
   "cell_type": "markdown",
   "metadata": {},
   "source": [
    "### SAVE THE MODEL"
   ]
  },
  {
   "cell_type": "code",
   "execution_count": 8,
   "metadata": {},
   "outputs": [],
   "source": [
    "FASTTEXT_MODEL_PATH = os.path.join(MAIN_PATH, MODEL_PATH, 'fasttext-' + str(vector_size) + '.model')\n",
    "clf.save_model(FASTTEXT_MODEL_PATH)\n",
    "\n",
    "# To load the model run: \n",
    "# model=fastText.load_model('fasttext.model')\n"
   ]
  },
  {
   "cell_type": "markdown",
   "metadata": {},
   "source": [
    "### CALCULATING TRAIN SET ACCURACY"
   ]
  },
  {
   "cell_type": "code",
   "execution_count": 9,
   "metadata": {},
   "outputs": [
    {
     "data": {
      "text/plain": [
       "0.9429"
      ]
     },
     "execution_count": 9,
     "metadata": {},
     "output_type": "execute_result"
    }
   ],
   "source": [
    "train_list = list(train_df.loc[[i for i in index_train], ['text']]['text'])\n",
    "result = clf.predict(train_list)\n",
    "labels_train = [int(result[0][i][0].replace('__label__', '')) for i in range(len(result[0]))]\n",
    "accuracy_score(labels_train, y_train)\n"
   ]
  },
  {
   "cell_type": "markdown",
   "metadata": {},
   "source": [
    "### CALCULATING TEST SET ACCURACY"
   ]
  },
  {
   "cell_type": "code",
   "execution_count": 10,
   "metadata": {},
   "outputs": [
    {
     "data": {
      "text/plain": [
       "0.7772666666666667"
      ]
     },
     "execution_count": 10,
     "metadata": {},
     "output_type": "execute_result"
    }
   ],
   "source": [
    "test_list = list(train_df.loc[[i for i in index_test], ['text']]['text'])\n",
    "result = clf.predict(test_list)\n",
    "labels_test = [int(result[0][i][0].replace('__label__', '')) for i in range(len(result[0]))]\n",
    "accuracy_score(labels_test, y_test)\n"
   ]
  },
  {
   "cell_type": "code",
   "execution_count": null,
   "metadata": {},
   "outputs": [],
   "source": []
  }
 ],
 "metadata": {
  "kernelspec": {
   "display_name": "Python 3",
   "language": "python",
   "name": "python3"
  },
  "language_info": {
   "codemirror_mode": {
    "name": "ipython",
    "version": 3
   },
   "file_extension": ".py",
   "mimetype": "text/x-python",
   "name": "python",
   "nbconvert_exporter": "python",
   "pygments_lexer": "ipython3",
   "version": "3.6.6"
  }
 },
 "nbformat": 4,
 "nbformat_minor": 2
}
