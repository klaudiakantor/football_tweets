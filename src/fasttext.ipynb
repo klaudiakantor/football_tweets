{
 "cells": [
  {
   "cell_type": "code",
   "execution_count": 1,
   "metadata": {},
   "outputs": [],
   "source": [
    "# Run this cell just once! (or restart Kernel before second time)\n",
    "\n",
    "import os\n",
    "os.chdir('..')"
   ]
  },
  {
   "cell_type": "code",
   "execution_count": 2,
   "metadata": {},
   "outputs": [],
   "source": [
    "import fastText\n",
    "import re\n",
    "import pandas as pd\n",
    "from utils.fixed import *\n",
    "from sklearn.model_selection import train_test_split\n",
    "from sklearn.metrics import accuracy_score"
   ]
  },
  {
   "cell_type": "code",
   "execution_count": 3,
   "metadata": {},
   "outputs": [],
   "source": [
    "TRAINING_DATA_PATH = os.path.join(MAIN_PATH, DATA_PATH, 'sentiment_m140_.csv')\n",
    "TRAIN_FILE_PATH = os.path.join(MAIN_PATH, DATA_PATH, 'test-doc.txt')\n",
    "TEST_FILE_PATH = os.path.join(MAIN_PATH, DATA_PATH, 'train-doc.txt')"
   ]
  },
  {
   "cell_type": "code",
   "execution_count": 4,
   "metadata": {},
   "outputs": [],
   "source": [
    "SLANG_DICT=load_slang(SLANG_PATH)\n",
    "train_df = pd.read_csv(TRAINING_DATA_PATH,sep=',',encoding = \"ISO-8859-1\", lineterminator='\\n',header=0)\n",
    "train_df.columns=['sentiment','id','date','query','user','tweetText']"
   ]
  },
  {
   "cell_type": "markdown",
   "metadata": {},
   "source": [
    "### PREPARE DATA"
   ]
  },
  {
   "cell_type": "code",
   "execution_count": 5,
   "metadata": {},
   "outputs": [],
   "source": [
    "X, y = get_processed_tweets(train_df,SLANG_DICT,False,False,False,True)\n",
    "indexes = list(train_df.index)\n",
    "for i in indexes:\n",
    "    X[i] = X[i]+' '+'__label__'+str(y[i])"
   ]
  },
  {
   "cell_type": "code",
   "execution_count": 6,
   "metadata": {},
   "outputs": [],
   "source": [
    "X_train, X_test, y_train, y_test,index_train,index_test = train_test_split(X,y,indexes,test_size=0.5, random_state=42)"
   ]
  },
  {
   "cell_type": "code",
   "execution_count": null,
   "metadata": {},
   "outputs": [],
   "source": [
    "with open(TRAIN_FILE_PATH, mode='wt', encoding='utf-8') as myfile:\n",
    "    myfile.write('\\n'.join(X_train))\n",
    "    myfile.write('\\n')\n",
    "with open(TEST_FILE_PATH, mode='wt', encoding='utf-8') as myfile:\n",
    "    myfile.write('\\n'.join(X_test))\n",
    "    myfile.write('\\n')"
   ]
  },
  {
   "cell_type": "markdown",
   "metadata": {},
   "source": [
    "### TRAIN THE MODEL"
   ]
  },
  {
   "cell_type": "code",
   "execution_count": null,
   "metadata": {},
   "outputs": [],
   "source": [
    "vector_size = 500\n",
    "ngrams = 2\n",
    "clf = fastText.train_supervised(TRAIN_FILE_PATH,wordNgrams=ngrams,dim=vector_size,minCount=1)"
   ]
  },
  {
   "cell_type": "markdown",
   "metadata": {},
   "source": [
    "### SAVE THE MODEL"
   ]
  },
  {
   "cell_type": "code",
   "execution_count": null,
   "metadata": {},
   "outputs": [],
   "source": [
    "FASTTEXT_MODEL_PATH = os.path.join(MAIN_PATH,MODEL_PATH,'fasttext-'+str(vector_size)+'.model')\n",
    "clf.save_model(FASTTEXT_MODEL_PATH)\n",
    "\n",
    "# To load the model run: \n",
    "# model=fastText.load_model('fasttext.model')"
   ]
  },
  {
   "cell_type": "markdown",
   "metadata": {},
   "source": [
    "### CALCULATING TRAIN SET ACCURACY"
   ]
  },
  {
   "cell_type": "code",
   "execution_count": null,
   "metadata": {},
   "outputs": [],
   "source": [
    "train_list = list(train_df.loc[[i for i in index_train], ['text']]['text'])\n",
    "result = clf.predict(train_list)\n",
    "labels_train=[int(result[0][i][0].replace('__label__','')) for i in range(len(result[0]))]\n",
    "accuracy_score(labels_train, y_train)"
   ]
  },
  {
   "cell_type": "markdown",
   "metadata": {},
   "source": [
    "### CALCULATING TEST SET ACCURACY"
   ]
  },
  {
   "cell_type": "code",
   "execution_count": null,
   "metadata": {},
   "outputs": [],
   "source": [
    "test_list = list(train_df.loc[[i for i in index_test], ['text']]['text'])\n",
    "result = clf.predict(test_list)\n",
    "labels_test=[int(result[0][i][0].replace('__label__','')) for i in range(len(result[0]))]\n",
    "accuracy_score(labels_test, y_test)"
   ]
  },
  {
   "cell_type": "code",
   "execution_count": null,
   "metadata": {},
   "outputs": [],
   "source": []
  }
 ],
 "metadata": {
  "kernelspec": {
   "display_name": "Python 3",
   "language": "python",
   "name": "python3"
  },
  "language_info": {
   "codemirror_mode": {
    "name": "ipython",
    "version": 3
   },
   "file_extension": ".py",
   "mimetype": "text/x-python",
   "name": "python",
   "nbconvert_exporter": "python",
   "pygments_lexer": "ipython3",
   "version": "3.6.6"
  }
 },
 "nbformat": 4,
 "nbformat_minor": 2
}
