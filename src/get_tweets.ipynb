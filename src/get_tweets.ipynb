{
 "cells": [
  {
   "cell_type": "code",
   "execution_count": 1,
   "metadata": {},
   "outputs": [],
   "source": [
    "# Run this cell just once! (or restart Kernel before second time)\n",
    "\n",
    "import os\n",
    "os.chdir('..')"
   ]
  },
  {
   "cell_type": "code",
   "execution_count": 2,
   "metadata": {},
   "outputs": [],
   "source": [
    "import sys\n",
    "import csv\n",
    "import pandas as pd\n",
    "import tweepy\n",
    "import pandas as pd\n",
    "import datetime\n",
    "from utils.fixed import ENV_PATH, MAIN_PATH, DATA_PATH, load_match_data\n",
    "from dotenv import load_dotenv"
   ]
  },
  {
   "cell_type": "code",
   "execution_count": 12,
   "metadata": {},
   "outputs": [],
   "source": [
    "def to_short_df(tweets,hashtag_list,teams):\n",
    "    DataSet = pd.DataFrame()\n",
    "    DataSet['tweetID'] = [tweet.id for tweet in tweets]\n",
    "    DataSet['tweetText'] = [tweet.text for tweet in tweets]\n",
    "    DataSet['tweetCreated'] = [tweet.created_at for tweet in tweets]\n",
    "    DataSet['hashtag'] = [hashtag for hashtag in hashtag_list]\n",
    "    DataSet['team'] = [team for team in teams]\n",
    "    return DataSet\n",
    "\n",
    "def to_long_df(tweets,hashtag_list,teams):\n",
    "    DataSet = pd.DataFrame()\n",
    "    DataSet['tweetID'] = [tweet.id for tweet in tweets]\n",
    "    DataSet['tweetText'] = [tweet.text for tweet in tweets]\n",
    "    DataSet['tweetCreated'] = [tweet.created_at for tweet in tweets]\n",
    "    DataSet['tweetRetweetCt'] = [tweet.retweet_count for tweet in tweets]\n",
    "    DataSet['tweetFavoriteCt'] = [tweet.favorite_count for tweet in tweets]\n",
    "    DataSet['tweetSource'] = [tweet.source for tweet in tweets]\n",
    "    DataSet['userID'] = [tweet.user.id for tweet in tweets]\n",
    "    DataSet['userScreen'] = [tweet.user.screen_name for tweet in tweets]\n",
    "    DataSet['userName'] = [tweet.user.name for tweet in tweets]\n",
    "    DataSet['userCreateDt'] = [tweet.user.created_at for tweet in tweets]\n",
    "    DataSet['userDesc'] = [tweet.user.description for tweet in tweets]\n",
    "    DataSet['userFollowerCt'] = [tweet.user.followers_count for tweet in tweets]\n",
    "    DataSet['userFriendsCt'] = [tweet.user.friends_count for tweet in tweets]\n",
    "    DataSet['userLocation'] = [tweet.user.location for tweet in tweets]\n",
    "    DataSet['userTimezone'] = [tweet.user.time_zone for tweet in tweets]\n",
    "    DataSet['hashtag'] = [hashtag for hashtag in hashtag_list]\n",
    "    DataSet['team'] = [team for team in teams]\n",
    "    return DataSet\n",
    "\n",
    "def get_tweets(team, hashtag, day, month, year, hour, mins):\n",
    "    startDate = datetime.datetime(year, month, day, hour, mins, 0)\n",
    "    endDate =  startDate + datetime.timedelta(minutes=150)\n",
    "    startDate_param=datetime.datetime.strftime(startDate,'%Y-%m-%d')\n",
    "    endDate_param=datetime.datetime.strftime(startDate+datetime.timedelta(days=1),'%Y-%m-%d')\n",
    "    tmpTweets=api.search(q=hashtag,lang=\"en\",since=startDate_param,until=endDate_param,count=100)\n",
    "    tweets = []\n",
    "    hashtag_list=[]\n",
    "    teams=[]\n",
    "    while (tmpTweets[-1].created_at > startDate):\n",
    "        tmpTweets = api.search(q=hashtag, lang=\"en\", max_id = tmpTweets[-1].id,count=100)\n",
    "        for tweet in tmpTweets:\n",
    "            if tweet.created_at < endDate and tweet.created_at > startDate:\n",
    "                tweets.append(tweet)\n",
    "                hashtag_list.append(hashtag)\n",
    "                teams.append(team)\n",
    "    return tweets, hashtag_list, teams \n",
    "\n",
    "def tweets_to_csv(hashtag_dict, date,file_name):\n",
    "    tweets=[]\n",
    "    hashtags=[]\n",
    "    teams=[]\n",
    "    for key, value in hashtag_dict.items():\n",
    "        for hashtag in value:\n",
    "            \n",
    "            print('starting ',hashtag)\n",
    "            tweets_temp, hashtag_list_temp, teams_temp = get_tweets(key, hashtag, date.day, date.month, date.year, date.hour, date.minute)\n",
    "            tweets+=tweets_temp\n",
    "            hashtags+=hashtag_list_temp\n",
    "            teams+=teams_temp\n",
    "               \n",
    "#             except:\n",
    "#                 print('error: ',hashtag)   \n",
    "    df=to_short_df(tweets,hashtags,teams)\n",
    "    df.to_csv(file_name, sep=';',encoding='utf-8')"
   ]
  },
  {
   "cell_type": "markdown",
   "metadata": {},
   "source": [
    "### LOAD TWITTER API CREDENTIALS FROM .ENV FILE"
   ]
  },
  {
   "cell_type": "code",
   "execution_count": 4,
   "metadata": {},
   "outputs": [],
   "source": [
    "load_dotenv(dotenv_path=ENV_PATH)\n",
    "\n",
    "consumer_key = os.getenv(\"CONSUMER_KEY\")\n",
    "consumer_secret = os.getenv(\"CONSUMER_SECRET\")\n",
    "access_key = os.getenv(\"ACCESS_KEY\")\n",
    "access_secret = os.getenv(\"ACCESS_SECRET\")"
   ]
  },
  {
   "cell_type": "markdown",
   "metadata": {},
   "source": [
    "### CONNECT WITH TWITTER API"
   ]
  },
  {
   "cell_type": "code",
   "execution_count": 5,
   "metadata": {},
   "outputs": [],
   "source": [
    "auth = tweepy.OAuthHandler(consumer_key, consumer_secret)\n",
    "auth.set_access_token(access_key, access_secret)\n",
    "api = tweepy.API(auth,wait_on_rate_limit=True)"
   ]
  },
  {
   "cell_type": "markdown",
   "metadata": {},
   "source": [
    "### LOAD MATCH DATA"
   ]
  },
  {
   "cell_type": "code",
   "execution_count": 7,
   "metadata": {},
   "outputs": [],
   "source": [
    "MATCH = \"PSG-LYO\"\n",
    "file_name, team1, team2, match_start, first_part_end, second_part_start,\\\n",
    "        match_end, hashtags_team1, hashtags_team2 = load_match_data(MATCH)\n",
    "match_hashtags = {team1:hashtags_team1, team2:hashtags_team2}\n",
    "scrapping_start_date = datetime.datetime.strptime(match_start, \"%Y-%m-%d %H:%M:%S\")-datetime.timedelta(minutes=30)\n",
    "TWEETS_CSV_PATH = os.path.join(MAIN_PATH,DATA_PATH,file_name)"
   ]
  },
  {
   "cell_type": "markdown",
   "metadata": {},
   "source": [
    "### GET TWEETS AND SAVE TO CSV\n",
    "##### WARNING: WIth basic twitter-api-account you can only get tweets maximum one week old !"
   ]
  },
  {
   "cell_type": "code",
   "execution_count": 13,
   "metadata": {},
   "outputs": [
    {
     "name": "stdout",
     "output_type": "stream",
     "text": [
      "starting  #psg\n",
      "starting  #parissaintgermain\n",
      "starting  #psgol\n",
      "starting  #lyon\n",
      "starting  #teamol\n",
      "starting  #ol\n",
      "starting  #olympiclyon\n"
     ]
    },
    {
     "ename": "IndexError",
     "evalue": "list index out of range",
     "output_type": "error",
     "traceback": [
      "\u001b[1;31m---------------------------------------------------------------------------\u001b[0m",
      "\u001b[1;31mIndexError\u001b[0m                                Traceback (most recent call last)",
      "\u001b[1;32m<ipython-input-13-9d9d1dac9699>\u001b[0m in \u001b[0;36m<module>\u001b[1;34m\u001b[0m\n\u001b[1;32m----> 1\u001b[1;33m \u001b[0mtweets_to_csv\u001b[0m\u001b[1;33m(\u001b[0m\u001b[0mmatch_hashtags\u001b[0m\u001b[1;33m,\u001b[0m\u001b[0mscrapping_start_date\u001b[0m\u001b[1;33m,\u001b[0m\u001b[0mTWEETS_CSV_PATH\u001b[0m\u001b[1;33m)\u001b[0m\u001b[1;33m\u001b[0m\u001b[0m\n\u001b[0m",
      "\u001b[1;32m<ipython-input-12-c9808a15b118>\u001b[0m in \u001b[0;36mtweets_to_csv\u001b[1;34m(hashtag_dict, date, file_name)\u001b[0m\n\u001b[0;32m     55\u001b[0m \u001b[1;33m\u001b[0m\u001b[0m\n\u001b[0;32m     56\u001b[0m             \u001b[0mprint\u001b[0m\u001b[1;33m(\u001b[0m\u001b[1;34m'starting '\u001b[0m\u001b[1;33m,\u001b[0m\u001b[0mhashtag\u001b[0m\u001b[1;33m)\u001b[0m\u001b[1;33m\u001b[0m\u001b[0m\n\u001b[1;32m---> 57\u001b[1;33m             \u001b[0mtweets_temp\u001b[0m\u001b[1;33m,\u001b[0m \u001b[0mhashtag_list_temp\u001b[0m\u001b[1;33m,\u001b[0m \u001b[0mteams_temp\u001b[0m \u001b[1;33m=\u001b[0m \u001b[0mget_tweets\u001b[0m\u001b[1;33m(\u001b[0m\u001b[0mkey\u001b[0m\u001b[1;33m,\u001b[0m \u001b[0mhashtag\u001b[0m\u001b[1;33m,\u001b[0m \u001b[0mdate\u001b[0m\u001b[1;33m.\u001b[0m\u001b[0mday\u001b[0m\u001b[1;33m,\u001b[0m \u001b[0mdate\u001b[0m\u001b[1;33m.\u001b[0m\u001b[0mmonth\u001b[0m\u001b[1;33m,\u001b[0m \u001b[0mdate\u001b[0m\u001b[1;33m.\u001b[0m\u001b[0myear\u001b[0m\u001b[1;33m,\u001b[0m \u001b[0mdate\u001b[0m\u001b[1;33m.\u001b[0m\u001b[0mhour\u001b[0m\u001b[1;33m,\u001b[0m \u001b[0mdate\u001b[0m\u001b[1;33m.\u001b[0m\u001b[0mminute\u001b[0m\u001b[1;33m)\u001b[0m\u001b[1;33m\u001b[0m\u001b[0m\n\u001b[0m\u001b[0;32m     58\u001b[0m             \u001b[0mtweets\u001b[0m\u001b[1;33m+=\u001b[0m\u001b[0mtweets_temp\u001b[0m\u001b[1;33m\u001b[0m\u001b[0m\n\u001b[0;32m     59\u001b[0m             \u001b[0mhashtags\u001b[0m\u001b[1;33m+=\u001b[0m\u001b[0mhashtag_list_temp\u001b[0m\u001b[1;33m\u001b[0m\u001b[0m\n",
      "\u001b[1;32m<ipython-input-12-c9808a15b118>\u001b[0m in \u001b[0;36mget_tweets\u001b[1;34m(team, hashtag, day, month, year, hour, mins)\u001b[0m\n\u001b[0;32m     38\u001b[0m     \u001b[0mhashtag_list\u001b[0m\u001b[1;33m=\u001b[0m\u001b[1;33m[\u001b[0m\u001b[1;33m]\u001b[0m\u001b[1;33m\u001b[0m\u001b[0m\n\u001b[0;32m     39\u001b[0m     \u001b[0mteams\u001b[0m\u001b[1;33m=\u001b[0m\u001b[1;33m[\u001b[0m\u001b[1;33m]\u001b[0m\u001b[1;33m\u001b[0m\u001b[0m\n\u001b[1;32m---> 40\u001b[1;33m     \u001b[1;32mwhile\u001b[0m \u001b[1;33m(\u001b[0m\u001b[0mtmpTweets\u001b[0m\u001b[1;33m[\u001b[0m\u001b[1;33m-\u001b[0m\u001b[1;36m1\u001b[0m\u001b[1;33m]\u001b[0m\u001b[1;33m.\u001b[0m\u001b[0mcreated_at\u001b[0m \u001b[1;33m>\u001b[0m \u001b[0mstartDate\u001b[0m\u001b[1;33m)\u001b[0m\u001b[1;33m:\u001b[0m\u001b[1;33m\u001b[0m\u001b[0m\n\u001b[0m\u001b[0;32m     41\u001b[0m         \u001b[0mtmpTweets\u001b[0m \u001b[1;33m=\u001b[0m \u001b[0mapi\u001b[0m\u001b[1;33m.\u001b[0m\u001b[0msearch\u001b[0m\u001b[1;33m(\u001b[0m\u001b[0mq\u001b[0m\u001b[1;33m=\u001b[0m\u001b[0mhashtag\u001b[0m\u001b[1;33m,\u001b[0m \u001b[0mlang\u001b[0m\u001b[1;33m=\u001b[0m\u001b[1;34m\"en\"\u001b[0m\u001b[1;33m,\u001b[0m \u001b[0mmax_id\u001b[0m \u001b[1;33m=\u001b[0m \u001b[0mtmpTweets\u001b[0m\u001b[1;33m[\u001b[0m\u001b[1;33m-\u001b[0m\u001b[1;36m1\u001b[0m\u001b[1;33m]\u001b[0m\u001b[1;33m.\u001b[0m\u001b[0mid\u001b[0m\u001b[1;33m,\u001b[0m\u001b[0mcount\u001b[0m\u001b[1;33m=\u001b[0m\u001b[1;36m100\u001b[0m\u001b[1;33m)\u001b[0m\u001b[1;33m\u001b[0m\u001b[0m\n\u001b[0;32m     42\u001b[0m         \u001b[1;32mfor\u001b[0m \u001b[0mtweet\u001b[0m \u001b[1;32min\u001b[0m \u001b[0mtmpTweets\u001b[0m\u001b[1;33m:\u001b[0m\u001b[1;33m\u001b[0m\u001b[0m\n",
      "\u001b[1;31mIndexError\u001b[0m: list index out of range"
     ]
    }
   ],
   "source": [
    "tweets_to_csv(match_hashtags,scrapping_start_date,TWEETS_CSV_PATH)"
   ]
  },
  {
   "cell_type": "code",
   "execution_count": null,
   "metadata": {},
   "outputs": [],
   "source": []
  },
  {
   "cell_type": "code",
   "execution_count": null,
   "metadata": {},
   "outputs": [],
   "source": []
  },
  {
   "cell_type": "code",
   "execution_count": null,
   "metadata": {},
   "outputs": [],
   "source": []
  },
  {
   "cell_type": "code",
   "execution_count": null,
   "metadata": {},
   "outputs": [],
   "source": []
  },
  {
   "cell_type": "code",
   "execution_count": 9,
   "metadata": {},
   "outputs": [],
   "source": [
    "BOR_LEC_hashtags={'BOR':['#bournemouth', '#afcbournemouth', '#afcb', '#afc'],'LEC':['#leicester','#leicestercity','#lcfc','#foxes','#bluearmy']}\n",
    "BOR_LEC_date='2018-09-15 14:30:00'\n",
    "file_name_BOR_LEC='BOR_LEC.csv'"
   ]
  },
  {
   "cell_type": "code",
   "execution_count": 10,
   "metadata": {},
   "outputs": [
    {
     "name": "stdout",
     "output_type": "stream",
     "text": [
      "starting  #bournemouth\n",
      "error:  #bournemouth\n",
      "starting  #afcbournemouth\n",
      "error:  #afcbournemouth\n",
      "starting  #afcb\n",
      "error:  #afcb\n",
      "starting  #afc\n",
      "error:  #afc\n",
      "starting  #leicester\n",
      "error:  #leicester\n",
      "starting  #leicestercity\n",
      "error:  #leicestercity\n",
      "starting  #lcfc\n",
      "error:  #lcfc\n",
      "starting  #foxes\n",
      "error:  #foxes\n",
      "starting  #bluearmy\n",
      "error:  #bluearmy\n"
     ]
    }
   ],
   "source": [
    "tweets_to_csv(BOR_LEC_hashtags,BOR_LEC_date,file_name_BOR_LEC)"
   ]
  },
  {
   "cell_type": "code",
   "execution_count": 9,
   "metadata": {},
   "outputs": [],
   "source": [
    "LIV_CHE_hashtags={'Liverpool':['#liverpoolfc','#liverpool','#lfc'],'Chelsea':['#chelseafc','#chelsea','#cfc','#cfcfamily','#cfcfans','#chelseafans','#coyb','#comeonyoublues','#theblues','#blueisthecolour']}\n",
    "LIV_CHE_date='2018-09-26 18:15:00'\n",
    "file_name='LIV_CHE.csv'"
   ]
  },
  {
   "cell_type": "code",
   "execution_count": null,
   "metadata": {},
   "outputs": [],
   "source": []
  }
 ],
 "metadata": {
  "kernelspec": {
   "display_name": "Python 3",
   "language": "python",
   "name": "python3"
  },
  "language_info": {
   "codemirror_mode": {
    "name": "ipython",
    "version": 3
   },
   "file_extension": ".py",
   "mimetype": "text/x-python",
   "name": "python",
   "nbconvert_exporter": "python",
   "pygments_lexer": "ipython3",
   "version": "3.6.6"
  }
 },
 "nbformat": 4,
 "nbformat_minor": 2
}
